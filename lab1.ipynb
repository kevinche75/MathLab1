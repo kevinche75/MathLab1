{
 "nbformat": 4,
 "nbformat_minor": 2,
 "metadata": {
  "language_info": {
   "name": "python",
   "codemirror_mode": {
    "name": "ipython",
    "version": 3
   },
   "version": "3.7.4-final"
  },
  "orig_nbformat": 2,
  "file_extension": ".py",
  "mimetype": "text/x-python",
  "name": "python",
  "npconvert_exporter": "python",
  "pygments_lexer": "ipython3",
  "version": 3,
  "kernelspec": {
   "name": "python38164bitd7c78a661f644da8bd8c0f11b79735be",
   "display_name": "Python 3.8.1 64-bit"
  }
 },
 "cells": [
  {
   "cell_type": "code",
   "execution_count": 6,
   "metadata": {},
   "outputs": [],
   "source": [
    "import read_data\n",
    "from ghaussian_method import solve_by_ghaussian_method"
   ]
  },
  {
   "cell_type": "markdown",
   "metadata": {},
   "source": [
    "Чтение из файла"
   ]
  },
  {
   "cell_type": "code",
   "execution_count": 7,
   "metadata": {},
   "outputs": [],
   "source": [
    "matrix = read_data.read_file_matrix(\"example.txt\")"
   ]
  },
  {
   "cell_type": "markdown",
   "metadata": {},
   "source": [
    "Чтение с консоли"
   ]
  },
  {
   "cell_type": "code",
   "execution_count": 3,
   "metadata": {},
   "outputs": [
    {
     "name": "stdout",
     "output_type": "stream",
     "text": "Введите размер матрицы\nНеправильный формат данных\n"
    }
   ],
   "source": [
    "matrix = read_data.read_console_matrix()"
   ]
  },
  {
   "cell_type": "markdown",
   "metadata": {},
   "source": [
    "Задать случайные коэффициенты"
   ]
  },
  {
   "cell_type": "code",
   "execution_count": 3,
   "metadata": {},
   "outputs": [
    {
     "name": "stdout",
     "output_type": "stream",
     "text": "Введите размер матрицы\nНеправильный формат данных\n"
    }
   ],
   "source": [
    "matrix = read_data.create_random_matrix()"
   ]
  },
  {
   "cell_type": "markdown",
   "metadata": {},
   "source": [
    "Решение"
   ]
  },
  {
   "cell_type": "code",
   "execution_count": 8,
   "metadata": {},
   "outputs": [
    {
     "name": "stdout",
     "output_type": "stream",
     "text": "Определитель: -24883200.000010516\n\nТреугольная матрица:\n117649.0 16807.0 2401.0 343.0 49.0 7.0 1.0 137257.0\n0.0 1110.8571428571431 343.8367346938776 79.97667638483966 16.568096626405666 3.224013803772238 0.603430543396034 1555.0660949094308\n0.0 0.0 36.57142857142861 20.46258503401361 7.74862325882734 2.482607555493853 0.7267922610141131 67.99203668077928\n0.0 0.0 0.0 1.928571428571436 1.7219387755102078 0.9825983965014589 0.45845155664306564 5.091560157225423\n0.0 0.0 0.0 0.0 0.3571428571428579 0.676020408163266 0.8579830741820542 1.891146339488353\n0.0 0.0 0.0 0.0 0.0 -0.15873015873018692 -0.3321995464853079 -0.4909297052139665\n0.0 0.0 0.0 0.0 0.0 0.0 -0.04761904761905894 -0.04761904762029273\n\nНеизвестные:\n1.0000000000000342 0.9999999999992549 1.000000000006333 0.9999999999732099 1.0000000000591112 0.9999999999361466 1.0000000000259095\n\nНевязки:\n0.0 -2.842170943040401e-14 0.0 0.0 -3.637978807091713e-12 -7.275957614183426e-12 0.0\n"
    }
   ],
   "source": [
    "if matrix is not None:\n",
    "    try:\n",
    "        transformed_matrix, determinant, decision_vector, residual = solve_by_ghaussian_method(matrix)\n",
    "        print(\"Определитель: {0}\\n\".format(determinant))\n",
    "        print(\"Треугольная матрица:\")\n",
    "        for row in transformed_matrix:\n",
    "            print(*row)\n",
    "        print()\n",
    "        print(\"Неизвестные:\")\n",
    "        print(*decision_vector)\n",
    "        print()\n",
    "        print(\"Невязки:\")\n",
    "        print(*residual)\n",
    "    except AssertionError as inst:\n",
    "        print(inst.args[0])"
   ]
  }
 ]
}
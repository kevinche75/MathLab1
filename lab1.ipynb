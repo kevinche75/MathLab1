{
 "nbformat": 4,
 "nbformat_minor": 2,
 "metadata": {
  "language_info": {
   "name": "python",
   "codemirror_mode": {
    "name": "ipython",
    "version": 3
   },
   "version": "3.7.4-final"
  },
  "orig_nbformat": 2,
  "file_extension": ".py",
  "mimetype": "text/x-python",
  "name": "python",
  "npconvert_exporter": "python",
  "pygments_lexer": "ipython3",
  "version": 3,
  "kernelspec": {
   "name": "python38164bitd7c78a661f644da8bd8c0f11b79735be",
   "display_name": "Python 3.8.1 64-bit"
  }
 },
 "cells": [
  {
   "cell_type": "code",
   "execution_count": 3,
   "metadata": {},
   "outputs": [],
   "source": [
    "import read_data\n",
    "import ghaussian_method\n",
    "import numpy as np\n",
    "import sys"
   ]
  },
  {
   "cell_type": "code",
   "execution_count": 4,
   "metadata": {},
   "outputs": [],
   "source": [
    "a = read_data.read_file_matrix(\"example.txt\")"
   ]
  },
  {
   "cell_type": "code",
   "execution_count": 5,
   "metadata": {},
   "outputs": [
    {
     "data": {
      "text/plain": "array([[ 0. ,  4. ,  5. ,  0. ,  3. ],\n       [ 0. ,  0. ,  4. ,  2. ,  0.5],\n       [-4. , -6. ,  0. ,  1. ,  2. ],\n       [ 1.4, -2. ,  3. ,  0. ,  8.9]])"
     },
     "execution_count": 5,
     "metadata": {},
     "output_type": "execute_result"
    }
   ],
   "source": [
    "a"
   ]
  },
  {
   "cell_type": "code",
   "execution_count": 6,
   "metadata": {},
   "outputs": [],
   "source": [
    "ghaussian_method.transform_to_triangular_matrix(a, \"column\")"
   ]
  },
  {
   "cell_type": "code",
   "execution_count": 7,
   "metadata": {},
   "outputs": [
    {
     "data": {
      "text/plain": "237.6"
     },
     "execution_count": 7,
     "metadata": {},
     "output_type": "execute_result"
    }
   ],
   "source": [
    "ghaussian_method.comp_determinant(a)"
   ]
  },
  {
   "cell_type": "code",
   "execution_count": 8,
   "metadata": {},
   "outputs": [
    {
     "data": {
      "text/plain": "array([[-4.        , -6.        ,  0.        ,  1.        ,  2.        ],\n       [ 0.        , -4.1       ,  3.        ,  0.35      ,  9.6       ],\n       [ 0.        ,  0.        ,  7.92682927,  0.34146341, 12.36585366],\n       [ 0.        ,  0.        ,  0.        ,  1.82769231, -5.74      ]])"
     },
     "execution_count": 8,
     "metadata": {},
     "output_type": "execute_result"
    }
   ],
   "source": [
    "a"
   ]
  },
  {
   "cell_type": "code",
   "execution_count": 9,
   "metadata": {},
   "outputs": [
    {
     "name": "stdout",
     "output_type": "stream",
     "text": "-5.74\n0.0\n1.8276923076923077\n[ 0.          0.          0.         -3.14057239]\n12.365853658536587\n-1.0723905723905724\n7.926829268292684\n[ 0.          0.          1.6952862  -3.14057239]\n9.6\n3.986658249158249\n-4.1\n[ 0.         -1.36910774  1.6952862  -3.14057239]\n2.0\n5.074074074074074\n-4.0\n[ 0.76851852 -1.36910774  1.6952862  -3.14057239]\n"
    }
   ],
   "source": [
    "ghaussian_method.comp_back_substitution(a)"
   ]
  }
 ]
}